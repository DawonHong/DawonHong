{
 "cells": [
  {
   "attachments": {},
   "cell_type": "markdown",
   "metadata": {},
   "source": [
    "#### 고속버스"
   ]
  },
  {
   "cell_type": "code",
   "execution_count": null,
   "metadata": {},
   "outputs": [],
   "source": [
    "import requests\n",
    "import numpy as np\n",
    "import pandas as pd\n",
    "import statsmodels as ss\n",
    "from bs4 import BeautifulSoup\n",
    "import pprint\n",
    "apikey = \"0hCmBr0rnl14%2Fsz%2BuaqqAisxHYVdGOfyRJjD2AYXvUpLrTSxKw33PxHiKRU3TkNB9EZqhgSWT88XByl4D%2BiIPQ%3D%3D\"\n",
    "dttype = \"json\""
   ]
  },
  {
   "cell_type": "markdown",
   "metadata": {},
   "source": [
    "[도시코드 목록 만들기]"
   ]
  },
  {
   "cell_type": "code",
   "execution_count": null,
   "metadata": {},
   "outputs": [],
   "source": [
    "url2_2 = \"http://apis.data.go.kr/1613000/ExpBusInfoService/getCtyCodeList?serviceKey={}&_type={}\".format(apikey, dttype)\n",
    "expbus_bct = requests.get(url2_2).json()\n",
    "type(expbus_bct)\n",
    "expbus_bct"
   ]
  },
  {
   "cell_type": "code",
   "execution_count": null,
   "metadata": {},
   "outputs": [],
   "source": [
    "expbus_bct_list = expbus_bct[\"response\"][\"body\"][\"items\"][\"item\"]\n",
    "expbus_bct_list\n",
    "\n",
    "expbus_bct_dic = {}\n",
    "expbus_bct_dic[\"exbs_bctID\"] = list(m[\"cityCode\"] for m in expbus_bct_list)\n",
    "expbus_bct_dic[\"exbs_bctNM\"] = list(m[\"cityName\"] for m in expbus_bct_list)\n",
    "expbus_bct_dic\n",
    "\n",
    "expbus_bct_df = pd.DataFrame(expbus_bct_dic)\n",
    "expbus_bct_df # 도시코드 DF 완료"
   ]
  },
  {
   "attachments": {},
   "cell_type": "markdown",
   "metadata": {},
   "source": [
    "[고속버스터미널 목록조회]"
   ]
  },
  {
   "cell_type": "code",
   "execution_count": null,
   "metadata": {},
   "outputs": [],
   "source": [
    "url2_3 = \"http://apis.data.go.kr/1613000/ExpBusInfoService/getExpBusTrminlList?serviceKey={}&_type={}&numOfRows=1000\".format(apikey, dttype)\n",
    "\n",
    "expbus_stn = requests.get(url2_3).json()\n",
    "type(expbus_stn)\n",
    "expbus_stn"
   ]
  },
  {
   "cell_type": "code",
   "execution_count": null,
   "metadata": {},
   "outputs": [],
   "source": [
    "expbus_stn_list = expbus_stn[\"response\"][\"body\"][\"items\"][\"item\"]\n",
    "expbus_stn_list\n",
    "\n",
    "expbus_stn_dic = {}\n",
    "expbus_stn_dic[\"exbs_stnID\"] = list(m[\"terminalId\"] for m in expbus_stn_list)\n",
    "expbus_stn_dic[\"exbs_stnNM\"] = list(m[\"terminalNm\"] for m in expbus_stn_list)\n",
    "expbus_stn_dic\n",
    "\n",
    "expbus_stn_df = pd.DataFrame(expbus_stn_dic)\n",
    "expbus_stn_df # 고속버스터미널 목록 DF 완료"
   ]
  },
  {
   "attachments": {},
   "cell_type": "markdown",
   "metadata": {},
   "source": [
    "[출도착지 기반 고속버스정보 조회]: 출발지 ID/도착지 ID를 바꿔가며 요청-데이터 받아오기-리스트로 생성-딕셔너리에 반복 저장하는 과정 필요"
   ]
  },
  {
   "cell_type": "code",
   "execution_count": null,
   "metadata": {},
   "outputs": [],
   "source": [
    "url2_4 = \"http://apis.data.go.kr/1613000/ExpBusInfoService/getStrtpntAlocFndExpbusInfo?serviceKey={}&depTerminalId=NAEK010&arrTerminalId=NAEK300&depPlandTime=20230427&_type={}&numOfRows=1000\".format(apikey, dttype)\n",
    "expbus_rut = requests.get(url2_4).json()\n",
    "type(expbus_rut)\n",
    "expbus_rut\n",
    "expbus_rut_list = expbus_rut[\"response\"][\"body\"][\"items\"][\"item\"]\n",
    "expbus_rut_list"
   ]
  },
  {
   "cell_type": "code",
   "execution_count": null,
   "metadata": {},
   "outputs": [],
   "source": [
    "expbus_rut_list = expbus_rut[\"response\"][\"body\"][\"items\"][\"item\"]\n",
    "expbus_rut_list\n",
    "\n",
    "expbus_rut_dic = {}\n",
    "expbus_rut_dic[\"exbs_stnNM_dep\"] = list(m[\"depPlaceNm\"] for m in expbus_rut_list)\n",
    "expbus_rut_dic[\"exbs_stnNM_arr\"] = list(m[\"arrPlaceNm\"] for m in expbus_rut_list)\n",
    "expbus_rut_dic[\"exbs_schd\"] = list(m[\"depPlandTime\"] for m in expbus_rut_list)\n",
    "expbus_rut_dic[\"exbs_grdNM\"] = list(m[\"gradeNm\"] for m in expbus_rut_list)\n",
    "expbus_rut_dic[\"exbs_rutID\"] = list(m[\"routeId\"] for m in expbus_rut_list)\n",
    "\n",
    "expbus_rut_dic\n",
    "\n",
    "expbus_rut_df = pd.DataFrame(expbus_rut_dic)\n",
    "expbus_rut_df.head(3)"
   ]
  },
  {
   "cell_type": "code",
   "execution_count": null,
   "metadata": {},
   "outputs": [],
   "source": [
    "expbus_stncode = expbus_stn_df[\"exbs_stnID\"]\n",
    "#depday = [\"20230427\", \"20230429\", \"20230430\"]\n",
    "depday = [\"20230427\"]\n",
    "\n",
    "expbus_rut_dic = {}\n",
    "\n",
    "for dep in expbus_stncode:\n",
    "    for arr in expbus_stncode:\n",
    "        if dep == arr:\n",
    "            continue\n",
    "        else:\n",
    "            url2_4 = \"http://apis.data.go.kr/1613000/expbusInfoService/getStrtpntAlocFndexpbusInfo?serviceKey={}&depPlaceId={}&arrPlaceId={}&depPlandTime={}&_type={}&numOfRows=1000\".format(apikey, dep, arr, depday, dttype)\n",
    "            expbus_rut = requests.get(url2_4).json()\n",
    "            expbus_rut_list = expbus_rut[\"response\"][\"body\"][\"items\"][\"item\"]"
   ]
  },
  {
   "attachments": {},
   "cell_type": "markdown",
   "metadata": {},
   "source": [
    "- Expecting value: line 1 column 1 (char 0) 왜 자꾸 오류\n",
    "- 노선이 없는 경우는 어떻게"
   ]
  }
 ],
 "metadata": {
  "kernelspec": {
   "display_name": "web_crawling",
   "language": "python",
   "name": "web_crawling"
  },
  "language_info": {
   "codemirror_mode": {
    "name": "ipython",
    "version": 3
   },
   "file_extension": ".py",
   "mimetype": "text/x-python",
   "name": "python",
   "nbconvert_exporter": "python",
   "pygments_lexer": "ipython3",
   "version": "3.8.16"
  },
  "orig_nbformat": 4
 },
 "nbformat": 4,
 "nbformat_minor": 2
}
